{
 "cells": [
  {
   "cell_type": "code",
   "execution_count": 3,
   "metadata": {
    "colab": {},
    "colab_type": "code",
    "id": "Bes9FgxgLUew"
   },
   "outputs": [],
   "source": [
    "from sklearn.manifold import SpectralEmbedding\n",
    "import cv2\n",
    "import glob\n",
    "import os\n",
    "import numpy as np\n",
    "import matplotlib.pyplot as plt\n",
    "from sklearn.model_selection import train_test_split\n",
    "from sklearn.neural_network import MLPClassifier\n",
    "from sklearn.metrics import accuracy_score, confusion_matrix\n",
    "from sklearn.decomposition import PCA\n",
    "import torchvision.transforms as transforms\n",
    "from sklearn import (preprocessing, decomposition, manifold, neighbors)\n",
    "from sklearn.preprocessing import scale\n",
    "from os import listdir\n",
    "from PIL import Image as PILmage\n",
    "from keras_preprocessing import image\n",
    "import numpy as np\n",
    "from sklearn.svm import SVC\n",
    "import pandas as pd"
   ]
  },
  {
   "cell_type": "code",
   "execution_count": 4,
   "metadata": {
    "colab": {},
    "colab_type": "code",
    "id": "aRw51mYTMp4U"
   },
   "outputs": [],
   "source": [
    "def load_data(dir):\n",
    "    a = 0\n",
    "    X = []\n",
    "    \n",
    "    imgdir = os.listdir(dir)\n",
    "    # imgdir.sort(key=lambda x:int(x[:-5]))\n",
    "    for img in imgdir:\n",
    "        imgpath = os.path.join(dir, img)\n",
    "        image = cv2.imread(imgpath, cv2.IMREAD_ANYCOLOR)\n",
    "        X.append(image)\n",
    "        a += 1\n",
    "    X = np.array(X)\n",
    "    print(a)\n",
    "        \n",
    "    labdir = \"./labels.txt\"\n",
    "    Y = np.asarray(np.loadtxt(labdir))\n",
    "    \n",
    "    return X, Y"
   ]
  },
  {
   "cell_type": "code",
   "execution_count": 5,
   "metadata": {
    "colab": {
     "base_uri": "https://localhost:8080/",
     "height": 34
    },
    "colab_type": "code",
    "executionInfo": {
     "elapsed": 19649,
     "status": "ok",
     "timestamp": 1575469406913,
     "user": {
      "displayName": "Om",
      "photoUrl": "https://lh3.googleusercontent.com/a-/AAuE7mCz8yZoF0tyvHVHq-lyqkz-VOnWIlIkCZ64DhPGTw=s64",
      "userId": "09716334168026892395"
     },
     "user_tz": 300
    },
    "id": "PUeWVp7DM9wH",
    "outputId": "90870854-0993-4016-a7f7-f3f077c26589"
   },
   "outputs": [
    {
     "name": "stdout",
     "output_type": "stream",
     "text": [
      "5856\n"
     ]
    }
   ],
   "source": [
    "dir = \"./output\"\n",
    "X, Y = load_data(dir)"
   ]
  },
  {
   "cell_type": "code",
   "execution_count": 6,
   "metadata": {
    "colab": {
     "base_uri": "https://localhost:8080/",
     "height": 181
    },
    "colab_type": "code",
    "executionInfo": {
     "elapsed": 538,
     "status": "error",
     "timestamp": 1575469383311,
     "user": {
      "displayName": "Om",
      "photoUrl": "https://lh3.googleusercontent.com/a-/AAuE7mCz8yZoF0tyvHVHq-lyqkz-VOnWIlIkCZ64DhPGTw=s64",
      "userId": "09716334168026892395"
     },
     "user_tz": 300
    },
    "id": "bZzxnkAnN1kC",
    "outputId": "f707dcb2-5126-4bfc-d165-49ddba781fa4"
   },
   "outputs": [
    {
     "data": {
      "text/plain": [
       "(5856, 160000)"
      ]
     },
     "execution_count": 6,
     "metadata": {},
     "output_type": "execute_result"
    }
   ],
   "source": [
    "Z = np.asarray([X[i].flatten() for i in range(len(X))])\n",
    "Z.shape"
   ]
  },
  {
   "cell_type": "code",
   "execution_count": 7,
   "metadata": {
    "colab": {
     "base_uri": "https://localhost:8080/",
     "height": 34
    },
    "colab_type": "code",
    "executionInfo": {
     "elapsed": 3182,
     "status": "ok",
     "timestamp": 1575469338782,
     "user": {
      "displayName": "Om",
      "photoUrl": "https://lh3.googleusercontent.com/a-/AAuE7mCz8yZoF0tyvHVHq-lyqkz-VOnWIlIkCZ64DhPGTw=s64",
      "userId": "09716334168026892395"
     },
     "user_tz": 300
    },
    "id": "Mfl12snYPB0V",
    "outputId": "4cb7a9c3-565c-4bf5-f412-5bb58ddcb266"
   },
   "outputs": [
    {
     "data": {
      "text/plain": [
       "(5856, 400, 400)"
      ]
     },
     "execution_count": 7,
     "metadata": {},
     "output_type": "execute_result"
    }
   ],
   "source": [
    "scale_X = X/255.\n",
    "Y = np.array([int(y) for y in Y])\n",
    "scale_X.shape"
   ]
  },
  {
   "cell_type": "code",
   "execution_count": 8,
   "metadata": {
    "colab": {
     "base_uri": "https://localhost:8080/",
     "height": 164
    },
    "colab_type": "code",
    "executionInfo": {
     "elapsed": 431,
     "status": "error",
     "timestamp": 1575469368061,
     "user": {
      "displayName": "Om",
      "photoUrl": "https://lh3.googleusercontent.com/a-/AAuE7mCz8yZoF0tyvHVHq-lyqkz-VOnWIlIkCZ64DhPGTw=s64",
      "userId": "09716334168026892395"
     },
     "user_tz": 300
    },
    "id": "RbGYypyoPLsR",
    "outputId": "82677acf-d385-475e-c0b5-9838cd4c24ea"
   },
   "outputs": [],
   "source": [
    "Z = np.asarray([scale_X[i].flatten() for i in range(len(scale_X))])"
   ]
  },
  {
   "cell_type": "code",
   "execution_count": 10,
   "metadata": {
    "colab": {},
    "colab_type": "code",
    "id": "ZJQ9rbyHPRYt"
   },
   "outputs": [],
   "source": [
    "iso1 = SpectralEmbedding(n_neighbors=10, n_components=2)"
   ]
  },
  {
   "cell_type": "code",
   "execution_count": null,
   "metadata": {
    "colab": {},
    "colab_type": "code",
    "id": "6JP5iz5JPmu5"
   },
   "outputs": [],
   "source": [
    "%timeit iso1.fit(Z)\n",
    "manifold_2D_1 = iso1.transform(Z)\n",
    "manifold_2D1 = pd.DataFrame(manifold_2D_1, columns=['Component 1', 'Component 2'])\n",
    "manifold_2D1.head()"
   ]
  },
  {
   "cell_type": "code",
   "execution_count": null,
   "metadata": {
    "colab": {},
    "colab_type": "code",
    "id": "c-r3y6d1Pr-C"
   },
   "outputs": [],
   "source": [
    "import matplotlib\n",
    "colors = ['red','green']\n",
    "\n",
    "fig = plt.figure()\n",
    "fig.set_size_inches(10, 10)\n",
    "ax = fig.add_subplot(111)\n",
    "ax.set_title('Laplacian Eigenmap')\n",
    "ax.set_xlabel('Component: 1')\n",
    "ax.set_ylabel('Component: 2')\n",
    "ax.scatter(manifold_2D1['Component 1'], manifold_2D1['Component 2'], marker='.',alpha=0.7, cmap=matplotlib.colors.ListedColormap(colors))\n",
    "plt.show()"
   ]
  },
  {
   "cell_type": "code",
   "execution_count": null,
   "metadata": {
    "colab": {},
    "colab_type": "code",
    "id": "ja8AqR_ZQoO_"
   },
   "outputs": [],
   "source": [
    "from sklearn.pipeline import Pipeline\n",
    "from sklearn.feature_selection import f_classif, SelectKBest\n",
    "from yellowbrick.features import Manifold\n",
    "from yellowbrick.datasets import load_occupancy\n",
    "\n",
    "\n",
    "Y = np.array([int(y) for y in Y])\n",
    "\n",
    "# 2D, k=10\n",
    "model = Pipeline([(\"selectk\", SelectKBest(k=2, score_func=f_classif)),(\"viz\", Manifold(manifold=\"spectral\", n_neighbors=10))])\n",
    "model.fit_transform(Z, Y)\n",
    "model.named_steps['viz'].show()"
   ]
  },
  {
   "cell_type": "code",
   "execution_count": null,
   "metadata": {
    "colab": {},
    "colab_type": "code",
    "id": "LLUgTjoeQ4ye"
   },
   "outputs": [],
   "source": [
    "model2 = Pipeline([(\"selectk\", SelectKBest(k=15, score_func=f_classif)),(\"viz\", Manifold(manifold=\"spectral\", n_neighbors=5))])\n",
    "model2.fit_transform(Z, Y)\n",
    "model2.named_steps['viz'].show()"
   ]
  },
  {
   "cell_type": "code",
   "execution_count": null,
   "metadata": {
    "colab": {},
    "colab_type": "code",
    "id": "Mx00FCpwRBrJ"
   },
   "outputs": [],
   "source": [
    "model2 = Pipeline([(\"selectk\", SelectKBest(k=15, score_func=f_classif)),(\"viz\", Manifold(manifold=\"spectral\", n_neighbors=10))])\n",
    "model2.fit_transform(Z, Y)\n",
    "model2.named_steps['viz'].show()"
   ]
  },
  {
   "cell_type": "code",
   "execution_count": null,
   "metadata": {
    "colab": {},
    "colab_type": "code",
    "id": "d5zYsBqURGHE"
   },
   "outputs": [],
   "source": [
    "model2 = Pipeline([(\"selectk\", SelectKBest(k=15, score_func=f_classif)),(\"viz\", Manifold(manifold=\"spectral\", n_neighbors=15))])\n",
    "model2.fit_transform(Z, Y)\n",
    "model2.named_steps['viz'].show()"
   ]
  },
  {
   "cell_type": "code",
   "execution_count": null,
   "metadata": {},
   "outputs": [],
   "source": []
  }
 ],
 "metadata": {
  "accelerator": "GPU",
  "colab": {
   "collapsed_sections": [],
   "name": "new.ipynb",
   "provenance": []
  },
  "kernelspec": {
   "display_name": "Python 3",
   "language": "python",
   "name": "python3"
  },
  "language_info": {
   "codemirror_mode": {
    "name": "ipython",
    "version": 3
   },
   "file_extension": ".py",
   "mimetype": "text/x-python",
   "name": "python",
   "nbconvert_exporter": "python",
   "pygments_lexer": "ipython3",
   "version": "3.7.5"
  }
 },
 "nbformat": 4,
 "nbformat_minor": 1
}
